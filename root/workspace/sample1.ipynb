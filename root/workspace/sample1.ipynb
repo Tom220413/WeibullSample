{
 "cells": [
  {
   "cell_type": "code",
   "execution_count": 4,
   "id": "2e4b9fe0-7a66-41e2-917d-54e197af28fc",
   "metadata": {
    "tags": []
   },
   "outputs": [
    {
     "data": {
      "image/png": "[encoded data removed]",
      "text/plain": [
       "<Figure size 640x480 with 1 Axes>"
      ]
     },
     "metadata": {},
     "output_type": "display_data"
    }
   ],
   "source": [
    "import numpy as np\n",
    "import matplotlib.pyplot as plt\n",
    "# \n",
    "a = 3.5 # shape\n",
    "s = np.random.weibull(a, 1000000)\n",
    "plt.hist(s, bins=100)\n",
    "plt.show()"
   ]
  },
  {
   "cell_type": "code",
   "execution_count": 11,
   "id": "1bc60b2b-13fd-4331-beaf-ac4119b72464",
   "metadata": {
    "tags": []
   },
   "outputs": [
    {
     "name": "stdout",
     "output_type": "stream",
     "text": [
      "   key   name\n",
      "0    1  asuka\n",
      "1    2   rina\n",
      "   key    name\n",
      "0    1  hinako\n",
      "1    2     yui\n",
      "2    3  kyouko\n",
      "   key    name\n",
      "0    1   asuka\n",
      "1    2    rina\n",
      "2    1  hinako\n",
      "3    2     yui\n",
      "4    3  kyouko\n",
      "    group\n",
      "0    nogi\n",
      "1  sakura\n",
      "2    nogi\n",
      "3  sakura\n",
      "4  hinata\n",
      "   key    name   group\n",
      "0    1   asuka    nogi\n",
      "1    2    rina  sakura\n",
      "2    1  hinako    nogi\n",
      "3    2     yui  sakura\n",
      "4    3  kyouko  hinata\n"
     ]
    }
   ],
   "source": [
    "# パッケージ読み込み\n",
    "import pandas as pd\n",
    "import numpy as np\n",
    "import seaborn as sns\n",
    " \n",
    "# データフレームの表示行数を指定\n",
    "pd.set_option('display.max_rows', 5) \n",
    " \n",
    "# 名前のデータフレーム 1\n",
    "df_name_1 = pd.DataFrame(\n",
    "    {\n",
    "        \"key\":[1, 2],\n",
    "        \"name\":[\"asuka\", \"rina\"]\n",
    "     }\n",
    "     )\n",
    " \n",
    "# 名前のデータフレーム 2\n",
    "df_name_2 = pd.DataFrame(\n",
    "    {\n",
    "        \"key\":[1, 2, 3],\n",
    "        \"name\":[\"hinako\", \"yui\", \"kyouko\"]\n",
    "     }\n",
    "     )\n",
    " \n",
    "# グループのデータフレーム\n",
    "df_group = pd.DataFrame(\n",
    "    {\n",
    "        \"group\":[\"nogi\", \"sakura\", \"nogi\", \"sakura\", \"hinata\"]\n",
    "     }\n",
    "     )\n",
    "# good：df_name_1とdf_name_2を縦結合（ignore_indexを使用する．）\n",
    "df_name = pd.concat(\n",
    "    [df_name_1, df_name_2],\n",
    "    axis=0,\n",
    "    ignore_index=True\n",
    ")\n",
    "print(df_name_1)\n",
    "print(df_name_2)\n",
    "print(df_name)\n",
    "print(df_group)\n",
    "df_name_group = pd.concat([df_name, df_group], axis=1)\n",
    "print(df_name_group)"
   ]
  }
 ],
 "metadata": {
  "kernelspec": {
   "display_name": "Python 3 (ipykernel)",
   "language": "python",
   "name": "python3"
  },
  "language_info": {
   "codemirror_mode": {
    "name": "ipython",
    "version": 3
   },
   "file_extension": ".py",
   "mimetype": "text/x-python",
   "name": "python",
   "nbconvert_exporter": "python",
   "pygments_lexer": "ipython3",
   "version": "3.9.7"
  }
 },
 "nbformat": 4,
 "nbformat_minor": 5
}
